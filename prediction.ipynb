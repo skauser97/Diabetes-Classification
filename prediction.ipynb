{
 "cells": [
  {
   "cell_type": "code",
   "execution_count": 45,
   "metadata": {},
   "outputs": [],
   "source": [
    "import numpy as np\n",
    "import pandas as pd\n",
    "import matplotlib.pyplot as plt\n",
    "import seaborn as sns\n",
    "from sklearn.model_selection import GridSearchCV\n",
    "from sklearn.metrics import accuracy_score, recall_score, precision_recall_fscore_support, f1_score, precision_score\n",
    "from sklearn.linear_model import LogisticRegression\n",
    "from sklearn.preprocessing import StandardScaler\n",
    "from imblearn.over_sampling import SMOTE\n",
    "from sklearn.model_selection import train_test_split\n",
    "import pickle"
   ]
  },
  {
   "cell_type": "code",
   "execution_count": 46,
   "metadata": {},
   "outputs": [],
   "source": [
    "## load pickle file and model_selection\n",
    "\n",
    "with open(\"pickle/robust_scaler.pkl\", \"rb\") as f:\n",
    "    transformer = pickle.load(f)\n",
    "\n",
    "with open(\"pickle/label_encoder.pkl\", \"rb\") as f:\n",
    "    label_encoder = pickle.load(f)\n",
    "\n",
    "with open(\"pickle/onehot_encoder.pkl\", \"rb\") as f:\n",
    "    onehot_encoder = pickle.load(f)\n",
    "\n",
    "with open(\"models/model_1.pkl\", \"rb\") as file:\n",
    "    model_1 = pickle.load(file)\n"
   ]
  },
  {
   "cell_type": "code",
   "execution_count": 47,
   "metadata": {},
   "outputs": [],
   "source": [
    "input_data = {\n",
    "    'Pregnancies' : 1,\n",
    "    'Glucose' : 85,\n",
    "\t'BloodPressure' : 66,\n",
    "\t'SkinThickness' : 29,\n",
    "    'Insulin' : 99,\n",
    "    'BMI' : 26.6,\n",
    "    'DiabetesPedigreeFunction' : 0.34,\n",
    "    'Age' : 31\n",
    "}\n"
   ]
  },
  {
   "cell_type": "code",
   "execution_count": 48,
   "metadata": {},
   "outputs": [
    {
     "data": {
      "text/html": [
       "<div>\n",
       "<style scoped>\n",
       "    .dataframe tbody tr th:only-of-type {\n",
       "        vertical-align: middle;\n",
       "    }\n",
       "\n",
       "    .dataframe tbody tr th {\n",
       "        vertical-align: top;\n",
       "    }\n",
       "\n",
       "    .dataframe thead th {\n",
       "        text-align: right;\n",
       "    }\n",
       "</style>\n",
       "<table border=\"1\" class=\"dataframe\">\n",
       "  <thead>\n",
       "    <tr style=\"text-align: right;\">\n",
       "      <th></th>\n",
       "      <th>Pregnancies</th>\n",
       "      <th>Glucose</th>\n",
       "      <th>BloodPressure</th>\n",
       "      <th>SkinThickness</th>\n",
       "      <th>Insulin</th>\n",
       "      <th>BMI</th>\n",
       "      <th>DiabetesPedigreeFunction</th>\n",
       "      <th>Age</th>\n",
       "    </tr>\n",
       "  </thead>\n",
       "  <tbody>\n",
       "    <tr>\n",
       "      <th>0</th>\n",
       "      <td>1</td>\n",
       "      <td>85</td>\n",
       "      <td>66</td>\n",
       "      <td>29</td>\n",
       "      <td>99</td>\n",
       "      <td>26.6</td>\n",
       "      <td>0.34</td>\n",
       "      <td>31</td>\n",
       "    </tr>\n",
       "  </tbody>\n",
       "</table>\n",
       "</div>"
      ],
      "text/plain": [
       "   Pregnancies  Glucose  BloodPressure  SkinThickness  Insulin   BMI  \\\n",
       "0            1       85             66             29       99  26.6   \n",
       "\n",
       "   DiabetesPedigreeFunction  Age  \n",
       "0                      0.34   31  "
      ]
     },
     "execution_count": 48,
     "metadata": {},
     "output_type": "execute_result"
    }
   ],
   "source": [
    "# convert to df... first convert to numerical if you have encoders\n",
    "input_df = pd.DataFrame([input_data])\n",
    "input_df"
   ]
  },
  {
   "cell_type": "code",
   "execution_count": 49,
   "metadata": {},
   "outputs": [],
   "source": [
    "def categorize_bmi(bmi):\n",
    "    if bmi < 18.5:\n",
    "        return \"Underweight\"\n",
    "    elif bmi <= 25:\n",
    "        return \"Normal\"\n",
    "    elif bmi <= 30:\n",
    "        return \"Overweight\"\n",
    "    elif bmi <= 35:\n",
    "        return \"Obesity I\"\n",
    "    elif bmi <= 40:\n",
    "        return \"Obesity II\"\n",
    "    else:\n",
    "        return \"Obesity III\"\n",
    "\n",
    "def categorize_glucose(glucose):\n",
    "    if glucose < 70:\n",
    "        return \"Low Glucose\"\n",
    "    elif glucose <= 99:\n",
    "        return \"Normal\"\n",
    "    elif glucose <= 125:\n",
    "        return \"Prediabetic\"\n",
    "    else:\n",
    "        return \"High Glucose\"\n",
    "\n",
    "def insulin_score(insulin):\n",
    "    if 16 <= insulin <= 165:\n",
    "        return \"Normal\"\n",
    "    else:\n",
    "        return \"Abnormal\"\n"
   ]
  },
  {
   "cell_type": "code",
   "execution_count": 50,
   "metadata": {},
   "outputs": [
    {
     "data": {
      "text/html": [
       "<div>\n",
       "<style scoped>\n",
       "    .dataframe tbody tr th:only-of-type {\n",
       "        vertical-align: middle;\n",
       "    }\n",
       "\n",
       "    .dataframe tbody tr th {\n",
       "        vertical-align: top;\n",
       "    }\n",
       "\n",
       "    .dataframe thead th {\n",
       "        text-align: right;\n",
       "    }\n",
       "</style>\n",
       "<table border=\"1\" class=\"dataframe\">\n",
       "  <thead>\n",
       "    <tr style=\"text-align: right;\">\n",
       "      <th></th>\n",
       "      <th>Pregnancies</th>\n",
       "      <th>Glucose</th>\n",
       "      <th>BloodPressure</th>\n",
       "      <th>SkinThickness</th>\n",
       "      <th>Insulin</th>\n",
       "      <th>BMI</th>\n",
       "      <th>DiabetesPedigreeFunction</th>\n",
       "      <th>Age</th>\n",
       "    </tr>\n",
       "  </thead>\n",
       "  <tbody>\n",
       "    <tr>\n",
       "      <th>0</th>\n",
       "      <td>1</td>\n",
       "      <td>Normal</td>\n",
       "      <td>66</td>\n",
       "      <td>29</td>\n",
       "      <td>Normal</td>\n",
       "      <td>Overweight</td>\n",
       "      <td>0.34</td>\n",
       "      <td>31</td>\n",
       "    </tr>\n",
       "  </tbody>\n",
       "</table>\n",
       "</div>"
      ],
      "text/plain": [
       "   Pregnancies Glucose  BloodPressure  SkinThickness Insulin         BMI  \\\n",
       "0            1  Normal             66             29  Normal  Overweight   \n",
       "\n",
       "   DiabetesPedigreeFunction  Age  \n",
       "0                      0.34   31  "
      ]
     },
     "execution_count": 50,
     "metadata": {},
     "output_type": "execute_result"
    }
   ],
   "source": [
    "input_df[\"Insulin\"] = input_df[\"Insulin\"].apply(insulin_score)\n",
    "input_df[\"Glucose\"] = input_df[\"Glucose\"].apply(categorize_glucose)\n",
    "input_df[\"BMI\"] = input_df[\"BMI\"].apply(categorize_bmi)\n",
    "input_df"
   ]
  },
  {
   "cell_type": "code",
   "execution_count": 51,
   "metadata": {},
   "outputs": [],
   "source": [
    "input_df[\"Insulin\"] = label_encoder.transform(input_df[\"Insulin\"])"
   ]
  },
  {
   "cell_type": "code",
   "execution_count": 52,
   "metadata": {},
   "outputs": [],
   "source": [
    "input_cat = onehot_encoder.transform(input_df[[\"BMI\",\"Glucose\"]])\n"
   ]
  },
  {
   "cell_type": "code",
   "execution_count": 53,
   "metadata": {},
   "outputs": [],
   "source": [
    "input_cat_columns = onehot_encoder.get_feature_names_out([\"BMI\", \"Glucose\"])\n",
    "# converting into a adataframe\n",
    "input_cat_encoded = pd.DataFrame(input_cat.toarray(),columns= input_cat_columns)\n"
   ]
  },
  {
   "cell_type": "code",
   "execution_count": 54,
   "metadata": {},
   "outputs": [],
   "source": [
    "input_df= input_df.drop(['Glucose','BMI'], axis =1 )\n",
    "\n"
   ]
  },
  {
   "cell_type": "code",
   "execution_count": 55,
   "metadata": {},
   "outputs": [],
   "source": [
    "cols = input_df.columns\n",
    "input_df_index = input_df.index\n",
    "\n",
    "input_df_scaled=transformer.transform(input_df)\n",
    "input_scaled=pd.DataFrame(input_df_scaled, columns = cols, index = input_df_index)\n",
    "input_final = pd.concat([input_scaled, input_cat_encoded], axis=1)\n",
    "#X_test_concat = pd.concat([X_test, X_test_encoded], axis=1)\n",
    "\n"
   ]
  },
  {
   "cell_type": "code",
   "execution_count": 56,
   "metadata": {},
   "outputs": [
    {
     "data": {
      "text/html": [
       "<div>\n",
       "<style scoped>\n",
       "    .dataframe tbody tr th:only-of-type {\n",
       "        vertical-align: middle;\n",
       "    }\n",
       "\n",
       "    .dataframe tbody tr th {\n",
       "        vertical-align: top;\n",
       "    }\n",
       "\n",
       "    .dataframe thead th {\n",
       "        text-align: right;\n",
       "    }\n",
       "</style>\n",
       "<table border=\"1\" class=\"dataframe\">\n",
       "  <thead>\n",
       "    <tr style=\"text-align: right;\">\n",
       "      <th></th>\n",
       "      <th>Pregnancies</th>\n",
       "      <th>BloodPressure</th>\n",
       "      <th>SkinThickness</th>\n",
       "      <th>Insulin</th>\n",
       "      <th>DiabetesPedigreeFunction</th>\n",
       "      <th>Age</th>\n",
       "      <th>BMI_Normal</th>\n",
       "      <th>BMI_Obesity I</th>\n",
       "      <th>BMI_Obesity II</th>\n",
       "      <th>BMI_Obesity III</th>\n",
       "      <th>BMI_Overweight</th>\n",
       "      <th>BMI_Underweight</th>\n",
       "      <th>Glucose_High Glucose</th>\n",
       "      <th>Glucose_Low Glucose</th>\n",
       "      <th>Glucose_Normal</th>\n",
       "      <th>Glucose_Prediabetic</th>\n",
       "    </tr>\n",
       "  </thead>\n",
       "  <tbody>\n",
       "    <tr>\n",
       "      <th>0</th>\n",
       "      <td>-0.679675</td>\n",
       "      <td>-0.447389</td>\n",
       "      <td>-0.166667</td>\n",
       "      <td>0.0</td>\n",
       "      <td>-0.115465</td>\n",
       "      <td>0.0</td>\n",
       "      <td>0.0</td>\n",
       "      <td>0.0</td>\n",
       "      <td>0.0</td>\n",
       "      <td>0.0</td>\n",
       "      <td>1.0</td>\n",
       "      <td>0.0</td>\n",
       "      <td>0.0</td>\n",
       "      <td>0.0</td>\n",
       "      <td>1.0</td>\n",
       "      <td>0.0</td>\n",
       "    </tr>\n",
       "  </tbody>\n",
       "</table>\n",
       "</div>"
      ],
      "text/plain": [
       "   Pregnancies  BloodPressure  SkinThickness  Insulin  \\\n",
       "0    -0.679675      -0.447389      -0.166667      0.0   \n",
       "\n",
       "   DiabetesPedigreeFunction  Age  BMI_Normal  BMI_Obesity I  BMI_Obesity II  \\\n",
       "0                 -0.115465  0.0         0.0            0.0             0.0   \n",
       "\n",
       "   BMI_Obesity III  BMI_Overweight  BMI_Underweight  Glucose_High Glucose  \\\n",
       "0              0.0             1.0              0.0                   0.0   \n",
       "\n",
       "   Glucose_Low Glucose  Glucose_Normal  Glucose_Prediabetic  \n",
       "0                  0.0             1.0                  0.0  "
      ]
     },
     "execution_count": 56,
     "metadata": {},
     "output_type": "execute_result"
    }
   ],
   "source": [
    "input_final"
   ]
  },
  {
   "cell_type": "code",
   "execution_count": 57,
   "metadata": {},
   "outputs": [
    {
     "data": {
      "text/plain": [
       "array([0])"
      ]
     },
     "execution_count": 57,
     "metadata": {},
     "output_type": "execute_result"
    }
   ],
   "source": [
    "# prediction\n",
    "prediction = model_1.predict(input_final)\n",
    "prediction"
   ]
  },
  {
   "cell_type": "code",
   "execution_count": null,
   "metadata": {},
   "outputs": [],
   "source": [
    "prediction.dtype"
   ]
  },
  {
   "cell_type": "code",
   "execution_count": 58,
   "metadata": {},
   "outputs": [
    {
     "data": {
      "text/plain": [
       "array([[0.94745822, 0.05254178]])"
      ]
     },
     "execution_count": 58,
     "metadata": {},
     "output_type": "execute_result"
    }
   ],
   "source": [
    "prediction_proba = model_1.predict_proba(input_final)\n",
    "prediction_proba"
   ]
  }
 ],
 "metadata": {
  "kernelspec": {
   "display_name": "Python 3",
   "language": "python",
   "name": "python3"
  },
  "language_info": {
   "codemirror_mode": {
    "name": "ipython",
    "version": 3
   },
   "file_extension": ".py",
   "mimetype": "text/x-python",
   "name": "python",
   "nbconvert_exporter": "python",
   "pygments_lexer": "ipython3",
   "version": "3.11.0"
  }
 },
 "nbformat": 4,
 "nbformat_minor": 2
}
