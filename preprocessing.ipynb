{
 "cells": [
  {
   "cell_type": "code",
   "execution_count": 168,
   "id": "06cd1b56-d49c-4c6a-9b84-3a7b8425e0cc",
   "metadata": {},
   "outputs": [],
   "source": [
    "import numpy as np\n",
    "import pandas as pd\n",
    "import matplotlib.pyplot as plt\n",
    "import seaborn as sns\n",
    "from sklearn.preprocessing import OneHotEncoder, LabelEncoder, RobustScaler\n",
    "from sklearn.model_selection import train_test_split\n"
   ]
  },
  {
   "cell_type": "code",
   "execution_count": 169,
   "id": "2453bafc-3e54-4f5a-b75e-6b26e627a519",
   "metadata": {},
   "outputs": [
    {
     "data": {
      "text/html": [
       "<div>\n",
       "<style scoped>\n",
       "    .dataframe tbody tr th:only-of-type {\n",
       "        vertical-align: middle;\n",
       "    }\n",
       "\n",
       "    .dataframe tbody tr th {\n",
       "        vertical-align: top;\n",
       "    }\n",
       "\n",
       "    .dataframe thead th {\n",
       "        text-align: right;\n",
       "    }\n",
       "</style>\n",
       "<table border=\"1\" class=\"dataframe\">\n",
       "  <thead>\n",
       "    <tr style=\"text-align: right;\">\n",
       "      <th></th>\n",
       "      <th>Pregnancies</th>\n",
       "      <th>Glucose</th>\n",
       "      <th>BloodPressure</th>\n",
       "      <th>SkinThickness</th>\n",
       "      <th>Insulin</th>\n",
       "      <th>BMI</th>\n",
       "      <th>DiabetesPedigreeFunction</th>\n",
       "      <th>Age</th>\n",
       "      <th>Outcome</th>\n",
       "    </tr>\n",
       "  </thead>\n",
       "  <tbody>\n",
       "    <tr>\n",
       "      <th>0</th>\n",
       "      <td>6</td>\n",
       "      <td>148</td>\n",
       "      <td>72</td>\n",
       "      <td>35</td>\n",
       "      <td>0</td>\n",
       "      <td>33.6</td>\n",
       "      <td>0.627</td>\n",
       "      <td>50</td>\n",
       "      <td>1</td>\n",
       "    </tr>\n",
       "    <tr>\n",
       "      <th>1</th>\n",
       "      <td>1</td>\n",
       "      <td>85</td>\n",
       "      <td>66</td>\n",
       "      <td>29</td>\n",
       "      <td>0</td>\n",
       "      <td>26.6</td>\n",
       "      <td>0.351</td>\n",
       "      <td>31</td>\n",
       "      <td>0</td>\n",
       "    </tr>\n",
       "    <tr>\n",
       "      <th>2</th>\n",
       "      <td>8</td>\n",
       "      <td>183</td>\n",
       "      <td>64</td>\n",
       "      <td>0</td>\n",
       "      <td>0</td>\n",
       "      <td>23.3</td>\n",
       "      <td>0.672</td>\n",
       "      <td>32</td>\n",
       "      <td>1</td>\n",
       "    </tr>\n",
       "    <tr>\n",
       "      <th>3</th>\n",
       "      <td>1</td>\n",
       "      <td>89</td>\n",
       "      <td>66</td>\n",
       "      <td>23</td>\n",
       "      <td>94</td>\n",
       "      <td>28.1</td>\n",
       "      <td>0.167</td>\n",
       "      <td>21</td>\n",
       "      <td>0</td>\n",
       "    </tr>\n",
       "    <tr>\n",
       "      <th>4</th>\n",
       "      <td>0</td>\n",
       "      <td>137</td>\n",
       "      <td>40</td>\n",
       "      <td>35</td>\n",
       "      <td>168</td>\n",
       "      <td>43.1</td>\n",
       "      <td>2.288</td>\n",
       "      <td>33</td>\n",
       "      <td>1</td>\n",
       "    </tr>\n",
       "    <tr>\n",
       "      <th>...</th>\n",
       "      <td>...</td>\n",
       "      <td>...</td>\n",
       "      <td>...</td>\n",
       "      <td>...</td>\n",
       "      <td>...</td>\n",
       "      <td>...</td>\n",
       "      <td>...</td>\n",
       "      <td>...</td>\n",
       "      <td>...</td>\n",
       "    </tr>\n",
       "    <tr>\n",
       "      <th>763</th>\n",
       "      <td>10</td>\n",
       "      <td>101</td>\n",
       "      <td>76</td>\n",
       "      <td>48</td>\n",
       "      <td>180</td>\n",
       "      <td>32.9</td>\n",
       "      <td>0.171</td>\n",
       "      <td>63</td>\n",
       "      <td>0</td>\n",
       "    </tr>\n",
       "    <tr>\n",
       "      <th>764</th>\n",
       "      <td>2</td>\n",
       "      <td>122</td>\n",
       "      <td>70</td>\n",
       "      <td>27</td>\n",
       "      <td>0</td>\n",
       "      <td>36.8</td>\n",
       "      <td>0.340</td>\n",
       "      <td>27</td>\n",
       "      <td>0</td>\n",
       "    </tr>\n",
       "    <tr>\n",
       "      <th>765</th>\n",
       "      <td>5</td>\n",
       "      <td>121</td>\n",
       "      <td>72</td>\n",
       "      <td>23</td>\n",
       "      <td>112</td>\n",
       "      <td>26.2</td>\n",
       "      <td>0.245</td>\n",
       "      <td>30</td>\n",
       "      <td>0</td>\n",
       "    </tr>\n",
       "    <tr>\n",
       "      <th>766</th>\n",
       "      <td>1</td>\n",
       "      <td>126</td>\n",
       "      <td>60</td>\n",
       "      <td>0</td>\n",
       "      <td>0</td>\n",
       "      <td>30.1</td>\n",
       "      <td>0.349</td>\n",
       "      <td>47</td>\n",
       "      <td>1</td>\n",
       "    </tr>\n",
       "    <tr>\n",
       "      <th>767</th>\n",
       "      <td>1</td>\n",
       "      <td>93</td>\n",
       "      <td>70</td>\n",
       "      <td>31</td>\n",
       "      <td>0</td>\n",
       "      <td>30.4</td>\n",
       "      <td>0.315</td>\n",
       "      <td>23</td>\n",
       "      <td>0</td>\n",
       "    </tr>\n",
       "  </tbody>\n",
       "</table>\n",
       "<p>768 rows × 9 columns</p>\n",
       "</div>"
      ],
      "text/plain": [
       "     Pregnancies  Glucose  BloodPressure  SkinThickness  Insulin   BMI  \\\n",
       "0              6      148             72             35        0  33.6   \n",
       "1              1       85             66             29        0  26.6   \n",
       "2              8      183             64              0        0  23.3   \n",
       "3              1       89             66             23       94  28.1   \n",
       "4              0      137             40             35      168  43.1   \n",
       "..           ...      ...            ...            ...      ...   ...   \n",
       "763           10      101             76             48      180  32.9   \n",
       "764            2      122             70             27        0  36.8   \n",
       "765            5      121             72             23      112  26.2   \n",
       "766            1      126             60              0        0  30.1   \n",
       "767            1       93             70             31        0  30.4   \n",
       "\n",
       "     DiabetesPedigreeFunction  Age  Outcome  \n",
       "0                       0.627   50        1  \n",
       "1                       0.351   31        0  \n",
       "2                       0.672   32        1  \n",
       "3                       0.167   21        0  \n",
       "4                       2.288   33        1  \n",
       "..                        ...  ...      ...  \n",
       "763                     0.171   63        0  \n",
       "764                     0.340   27        0  \n",
       "765                     0.245   30        0  \n",
       "766                     0.349   47        1  \n",
       "767                     0.315   23        0  \n",
       "\n",
       "[768 rows x 9 columns]"
      ]
     },
     "execution_count": 169,
     "metadata": {},
     "output_type": "execute_result"
    }
   ],
   "source": [
    "dataset = pd.read_csv(\"diabetes.csv\")\n",
    "dataset"
   ]
  },
  {
   "cell_type": "code",
   "execution_count": 170,
   "id": "d9db8c67-aa3c-45a1-8e28-bcb050ad66ba",
   "metadata": {},
   "outputs": [
    {
     "data": {
      "text/plain": [
       "Outcome\n",
       "0    500\n",
       "1    268\n",
       "Name: count, dtype: int64"
      ]
     },
     "execution_count": 170,
     "metadata": {},
     "output_type": "execute_result"
    }
   ],
   "source": [
    "dataset[\"Outcome\"].value_counts()"
   ]
  },
  {
   "cell_type": "code",
   "execution_count": 171,
   "id": "c82f7c94-fe67-44e5-b2d7-ab6e3bb7d08b",
   "metadata": {},
   "outputs": [
    {
     "data": {
      "text/plain": [
       "Pregnancies                 False\n",
       "Glucose                     False\n",
       "BloodPressure               False\n",
       "SkinThickness               False\n",
       "Insulin                     False\n",
       "BMI                         False\n",
       "DiabetesPedigreeFunction    False\n",
       "Age                         False\n",
       "Outcome                     False\n",
       "dtype: bool"
      ]
     },
     "execution_count": 171,
     "metadata": {},
     "output_type": "execute_result"
    }
   ],
   "source": [
    "dataset.isnull().any()"
   ]
  },
  {
   "cell_type": "code",
   "execution_count": 172,
   "id": "aca5c227-851e-4cd4-b31a-95d22a3e0528",
   "metadata": {},
   "outputs": [
    {
     "data": {
      "text/plain": [
       "(768, 9)"
      ]
     },
     "execution_count": 172,
     "metadata": {},
     "output_type": "execute_result"
    }
   ],
   "source": [
    "dataset.shape"
   ]
  },
  {
   "cell_type": "markdown",
   "id": "28a25e9c-5594-475c-b148-c6980fca437a",
   "metadata": {},
   "source": [
    "### Exploratory Data Analaysis"
   ]
  },
  {
   "cell_type": "markdown",
   "id": "e296bcee-148c-4260-ba11-69c996a65f04",
   "metadata": {},
   "source": [
    "statistical analysis: mean median mode, iqr, statistical testing (A/B testing)\n",
    "a) Glucose and Outcome\n",
    "b) BMI and Outcome\n",
    "c) Age and outcome\n",
    "d) blood pressure and Outcome\n"
   ]
  },
  {
   "cell_type": "code",
   "execution_count": 173,
   "id": "8f96e715-1abb-44cb-b385-84155f448e8a",
   "metadata": {},
   "outputs": [
    {
     "data": {
      "text/plain": [
       "Index(['Pregnancies', 'Glucose', 'BloodPressure', 'SkinThickness', 'Insulin',\n",
       "       'BMI', 'DiabetesPedigreeFunction', 'Age', 'Outcome'],\n",
       "      dtype='object')"
      ]
     },
     "execution_count": 173,
     "metadata": {},
     "output_type": "execute_result"
    }
   ],
   "source": [
    "columns= dataset.columns\n",
    "columns"
   ]
  },
  {
   "cell_type": "code",
   "execution_count": 174,
   "id": "86f3f5b4-0b98-407b-8a16-66f3c003d5fc",
   "metadata": {},
   "outputs": [
    {
     "name": "stdout",
     "output_type": "stream",
     "text": [
      "['Mean of Pregnancies is 3.85', 'Mean of Glucose is 120.89', 'Mean of BloodPressure is 69.11', 'Mean of SkinThickness is 20.54', 'Mean of Insulin is 79.8', 'Mean of BMI is 31.99', 'Mean of DiabetesPedigreeFunction is 0.47', 'Mean of Age is 33.24']\n"
     ]
    }
   ],
   "source": [
    "mean_col=[]\n",
    "#dataset.columns\n",
    "columns= dataset.drop([\"Outcome\"],axis=1).columns\n",
    "\n",
    "for i in columns:\n",
    "    mean_col.append(round(dataset[i].mean(),2))\n",
    "\n",
    "mean_of_columns = [f\"Mean of {columns[i]} is {mean_col[i]}\" for i in range(len(columns))]\n",
    "\n",
    "print(mean_of_columns)\n"
   ]
  },
  {
   "cell_type": "code",
   "execution_count": 175,
   "id": "ce683c35-24d8-4947-a37d-47d511b50a4f",
   "metadata": {},
   "outputs": [],
   "source": [
    "## glucose levels for two groups\n",
    "## age level for ppl with diabetes (outcome ==1)\n"
   ]
  },
  {
   "cell_type": "code",
   "execution_count": 176,
   "id": "5c2e0872-f16e-4f6f-b3f7-aa2c298cb7c3",
   "metadata": {},
   "outputs": [],
   "source": [
    "def age_bands(age):\n",
    "    if age<= 20:\n",
    "        return \"< 20\"\n",
    "    if age >20 and age<=30:\n",
    "        return \"21-30\"\n",
    "    if age >30 and age <=40:\n",
    "        return \"31-40\"\n",
    "    if age >40 and age <=50:\n",
    "        return \"41-50\"\n",
    "    if age >50 and age <=60:\n",
    "        return \"51-60\"\n",
    "    if age >60 :\n",
    "        return \"Over 60\"\n",
    "\n"
   ]
  },
  {
   "cell_type": "code",
   "execution_count": 177,
   "id": "2a42d4cb-6541-4ae2-bea4-165c3ff5bb28",
   "metadata": {},
   "outputs": [],
   "source": [
    "dataset[\"Age_Band\"] = dataset[\"Age\"].apply(age_bands)"
   ]
  },
  {
   "cell_type": "code",
   "execution_count": 178,
   "id": "0a1b1584-d8ab-4495-bb8b-00a11f20737c",
   "metadata": {},
   "outputs": [],
   "source": [
    "diabetes_dataset = dataset[dataset[\"Outcome\"] == 1]\n",
    "non_diabetes_dataset = dataset[dataset[\"Outcome\"] == 0]"
   ]
  },
  {
   "cell_type": "code",
   "execution_count": 179,
   "id": "e50fa2ae-277c-4022-850a-7ebf1fc28c52",
   "metadata": {},
   "outputs": [
    {
     "data": {
      "text/plain": [
       "np.float64(109.98)"
      ]
     },
     "execution_count": 179,
     "metadata": {},
     "output_type": "execute_result"
    }
   ],
   "source": [
    "non_diabetes_dataset.Glucose.mean()"
   ]
  },
  {
   "cell_type": "code",
   "execution_count": 180,
   "id": "816d35f5-60eb-4740-83db-752566ec604e",
   "metadata": {},
   "outputs": [
    {
     "data": {
      "text/plain": [
       "np.float64(141.25746268656715)"
      ]
     },
     "execution_count": 180,
     "metadata": {},
     "output_type": "execute_result"
    }
   ],
   "source": [
    "diabetes_dataset.Glucose.mean()"
   ]
  },
  {
   "cell_type": "code",
   "execution_count": 181,
   "id": "8e053f98-4b18-4e52-9605-83847b8ffc5a",
   "metadata": {},
   "outputs": [
    {
     "data": {
      "text/plain": [
       "Pregnancies                 111\n",
       "Glucose                       5\n",
       "BloodPressure                35\n",
       "SkinThickness               227\n",
       "Insulin                     374\n",
       "BMI                          11\n",
       "DiabetesPedigreeFunction      0\n",
       "Age                           0\n",
       "Outcome                     500\n",
       "Age_Band                      0\n",
       "dtype: int64"
      ]
     },
     "execution_count": 181,
     "metadata": {},
     "output_type": "execute_result"
    }
   ],
   "source": [
    "(dataset==0).sum()"
   ]
  },
  {
   "cell_type": "code",
   "execution_count": 182,
   "id": "c0d4ee3a-814c-4f4a-a20f-accb18792562",
   "metadata": {},
   "outputs": [
    {
     "data": {
      "image/png": "[encoded data removed]",
      "text/plain": [
       "<Figure size 640x480 with 1 Axes>"
      ]
     },
     "metadata": {},
     "output_type": "display_data"
    }
   ],
   "source": [
    "sns.boxplot(data=diabetes_dataset, hue='Age_Band', y='Glucose', palette='Oranges')\n",
    "plt.title('Glucose Levels by Age Band (Diabetic)')\n",
    "plt.ylabel('Glucose')\n",
    "plt.xlabel('Age Band')\n",
    "plt.show()\n",
    "\n"
   ]
  },
  {
   "cell_type": "code",
   "execution_count": 183,
   "id": "ed791380",
   "metadata": {},
   "outputs": [
    {
     "data": {
      "image/png": "[encoded data removed]",
      "text/plain": [
       "<Figure size 640x480 with 1 Axes>"
      ]
     },
     "metadata": {},
     "output_type": "display_data"
    }
   ],
   "source": [
    "sns.boxplot(data=dataset, x='Insulin')\n",
    "plt.title('Glucose Levels by Age Band (Diabetic)')\n",
    "plt.ylabel('Glucose')\n",
    "plt.xlabel('Age Band')\n",
    "plt.show()\n",
    "\n"
   ]
  },
  {
   "cell_type": "code",
   "execution_count": 184,
   "id": "2b410d96",
   "metadata": {},
   "outputs": [
    {
     "data": {
      "text/plain": [
       "(768, 10)"
      ]
     },
     "execution_count": 184,
     "metadata": {},
     "output_type": "execute_result"
    }
   ],
   "source": [
    "dataset.shape"
   ]
  },
  {
   "cell_type": "code",
   "execution_count": 185,
   "id": "ac9c6bf0",
   "metadata": {},
   "outputs": [
    {
     "data": {
      "text/html": [
       "<div>\n",
       "<style scoped>\n",
       "    .dataframe tbody tr th:only-of-type {\n",
       "        vertical-align: middle;\n",
       "    }\n",
       "\n",
       "    .dataframe tbody tr th {\n",
       "        vertical-align: top;\n",
       "    }\n",
       "\n",
       "    .dataframe thead th {\n",
       "        text-align: right;\n",
       "    }\n",
       "</style>\n",
       "<table border=\"1\" class=\"dataframe\">\n",
       "  <thead>\n",
       "    <tr style=\"text-align: right;\">\n",
       "      <th></th>\n",
       "      <th>Pregnancies</th>\n",
       "      <th>Glucose</th>\n",
       "      <th>BloodPressure</th>\n",
       "      <th>SkinThickness</th>\n",
       "      <th>Insulin</th>\n",
       "      <th>BMI</th>\n",
       "      <th>DiabetesPedigreeFunction</th>\n",
       "      <th>Age</th>\n",
       "      <th>Outcome</th>\n",
       "      <th>Age_Band</th>\n",
       "    </tr>\n",
       "  </thead>\n",
       "  <tbody>\n",
       "    <tr>\n",
       "      <th>0</th>\n",
       "      <td>6</td>\n",
       "      <td>148</td>\n",
       "      <td>72</td>\n",
       "      <td>35</td>\n",
       "      <td>0</td>\n",
       "      <td>33.6</td>\n",
       "      <td>0.627</td>\n",
       "      <td>50</td>\n",
       "      <td>1</td>\n",
       "      <td>41-50</td>\n",
       "    </tr>\n",
       "    <tr>\n",
       "      <th>1</th>\n",
       "      <td>1</td>\n",
       "      <td>85</td>\n",
       "      <td>66</td>\n",
       "      <td>29</td>\n",
       "      <td>0</td>\n",
       "      <td>26.6</td>\n",
       "      <td>0.351</td>\n",
       "      <td>31</td>\n",
       "      <td>0</td>\n",
       "      <td>31-40</td>\n",
       "    </tr>\n",
       "    <tr>\n",
       "      <th>2</th>\n",
       "      <td>8</td>\n",
       "      <td>183</td>\n",
       "      <td>64</td>\n",
       "      <td>0</td>\n",
       "      <td>0</td>\n",
       "      <td>23.3</td>\n",
       "      <td>0.672</td>\n",
       "      <td>32</td>\n",
       "      <td>1</td>\n",
       "      <td>31-40</td>\n",
       "    </tr>\n",
       "    <tr>\n",
       "      <th>3</th>\n",
       "      <td>1</td>\n",
       "      <td>89</td>\n",
       "      <td>66</td>\n",
       "      <td>23</td>\n",
       "      <td>94</td>\n",
       "      <td>28.1</td>\n",
       "      <td>0.167</td>\n",
       "      <td>21</td>\n",
       "      <td>0</td>\n",
       "      <td>21-30</td>\n",
       "    </tr>\n",
       "    <tr>\n",
       "      <th>4</th>\n",
       "      <td>0</td>\n",
       "      <td>137</td>\n",
       "      <td>40</td>\n",
       "      <td>35</td>\n",
       "      <td>168</td>\n",
       "      <td>43.1</td>\n",
       "      <td>2.288</td>\n",
       "      <td>33</td>\n",
       "      <td>1</td>\n",
       "      <td>31-40</td>\n",
       "    </tr>\n",
       "  </tbody>\n",
       "</table>\n",
       "</div>"
      ],
      "text/plain": [
       "   Pregnancies  Glucose  BloodPressure  SkinThickness  Insulin   BMI  \\\n",
       "0            6      148             72             35        0  33.6   \n",
       "1            1       85             66             29        0  26.6   \n",
       "2            8      183             64              0        0  23.3   \n",
       "3            1       89             66             23       94  28.1   \n",
       "4            0      137             40             35      168  43.1   \n",
       "\n",
       "   DiabetesPedigreeFunction  Age  Outcome Age_Band  \n",
       "0                     0.627   50        1    41-50  \n",
       "1                     0.351   31        0    31-40  \n",
       "2                     0.672   32        1    31-40  \n",
       "3                     0.167   21        0    21-30  \n",
       "4                     2.288   33        1    31-40  "
      ]
     },
     "execution_count": 185,
     "metadata": {},
     "output_type": "execute_result"
    }
   ],
   "source": [
    "## Encoding\n",
    "# converting bmi into underweight normal, obesity, 1 obesity 2, obesity 3\n",
    "# insulin normal abnormal\n",
    "# glucose low normal overweight\n",
    "dataset.head()"
   ]
  },
  {
   "cell_type": "code",
   "execution_count": 186,
   "id": "90b7c3e7",
   "metadata": {},
   "outputs": [],
   "source": [
    "# Dividing dataset into independent and dependent Features\n",
    "\n",
    "X = dataset.drop(['Outcome', 'Age_Band'], axis=1)\n",
    "y = dataset['Outcome']\n"
   ]
  },
  {
   "cell_type": "code",
   "execution_count": 187,
   "id": "a278d892",
   "metadata": {},
   "outputs": [
    {
     "data": {
      "text/plain": [
       "Pregnancies                 111\n",
       "Glucose                       5\n",
       "BloodPressure                35\n",
       "SkinThickness               227\n",
       "Insulin                     374\n",
       "BMI                          11\n",
       "DiabetesPedigreeFunction      0\n",
       "Age                           0\n",
       "dtype: int64"
      ]
     },
     "execution_count": 187,
     "metadata": {},
     "output_type": "execute_result"
    }
   ],
   "source": [
    "(X==0).sum()"
   ]
  },
  {
   "cell_type": "code",
   "execution_count": null,
   "id": "6ba4c7b1",
   "metadata": {},
   "outputs": [],
   "source": []
  },
  {
   "cell_type": "code",
   "execution_count": 188,
   "id": "86609d4c",
   "metadata": {},
   "outputs": [],
   "source": [
    "X_train, X_test, y_train, y_test = train_test_split(X,y ,\n",
    "                                   random_state=104, \n",
    "                                   test_size=0.35, \n",
    "                                   shuffle=True)\n"
   ]
  },
  {
   "cell_type": "code",
   "execution_count": 189,
   "id": "cefa4284",
   "metadata": {},
   "outputs": [
    {
     "data": {
      "text/plain": [
       "Outcome\n",
       "0    39.0\n",
       "1     0.0\n",
       "Name: Insulin, dtype: float64"
      ]
     },
     "execution_count": 189,
     "metadata": {},
     "output_type": "execute_result"
    }
   ],
   "source": [
    "dataset.groupby('Outcome')['Insulin'].median()"
   ]
  },
  {
   "cell_type": "code",
   "execution_count": 190,
   "id": "049bbd52",
   "metadata": {},
   "outputs": [
    {
     "data": {
      "text/plain": [
       "np.int64(374)"
      ]
     },
     "execution_count": 190,
     "metadata": {},
     "output_type": "execute_result"
    }
   ],
   "source": [
    "(dataset['Insulin']==0).sum()"
   ]
  },
  {
   "cell_type": "code",
   "execution_count": 191,
   "id": "c7fa9f32",
   "metadata": {},
   "outputs": [],
   "source": [
    "def remove_zeroes(X_train, X_test, y_train, y_test):\n",
    "    \"\"\"\n",
    "    Replaces 0s with NaN and fills NaNs using mean or median based on strategy_dict.\n",
    "\n",
    "    Parameters:\n",
    "    df : DataFrame\n",
    "        The dataframe to modify (e.g., X_train).\n",
    "    strategy_dict : dict\n",
    "        Format: {'col1': 'mean', 'col2': 'median', ...}\n",
    "\n",
    "    Returns:\n",
    "    DataFrame with zeroes replaced and NaNs filled.\n",
    "    \"\"\"\n",
    "    train_combined = X_train.copy()\n",
    "    train_combined['Outcome'] = y_train.values\n",
    "    test_combined = X_test.copy()\n",
    "    test_combined['Outcome'] = y_test.values\n",
    "    columns= X_train.columns\n",
    "\n",
    "    for col in columns:\n",
    "        train_combined[col] = train_combined[col].replace(0, np.nan)\n",
    "        test_combined[col] = test_combined[col].replace(0, np.nan) \n",
    "\n",
    "        # Step 3: Fill NaN in col with group-wise median\n",
    "        if col== 'Insulin':\n",
    "            train_combined[col] = train_combined.groupby('Outcome')[col].transform(lambda x: x.fillna(x.mean().round(2)))\n",
    "            test_combined[col] = test_combined.groupby('Outcome')[col].transform(lambda x: x.fillna(x.mean().round(2)))\n",
    "        else:\n",
    "            train_combined[col] = train_combined.groupby('Outcome')[col].transform(lambda x: x.fillna(x.median()))\n",
    "            test_combined[col] = test_combined.groupby('Outcome')[col].transform(lambda x: x.fillna(x.median()))\n",
    "\n",
    "\n",
    "        # Step 4: Drop Outcome column to get back to original X format\n",
    "    X_train = train_combined.drop(columns=['Outcome'])\n",
    "    X_test = test_combined.drop(columns=['Outcome'])\n",
    "    return X_train, X_test\n"
   ]
  },
  {
   "cell_type": "code",
   "execution_count": 192,
   "id": "2acb644d",
   "metadata": {},
   "outputs": [],
   "source": [
    "X_train, X_test = remove_zeroes(X_train, X_test, y_train, y_test)"
   ]
  },
  {
   "cell_type": "code",
   "execution_count": 193,
   "id": "f0b37c46",
   "metadata": {},
   "outputs": [
    {
     "data": {
      "text/plain": [
       "np.float64(199.0)"
      ]
     },
     "execution_count": 193,
     "metadata": {},
     "output_type": "execute_result"
    }
   ],
   "source": [
    "X_test['Glucose'].max()"
   ]
  },
  {
   "cell_type": "code",
   "execution_count": 194,
   "id": "e90beaa5",
   "metadata": {},
   "outputs": [],
   "source": [
    "from imblearn.over_sampling import SMOTE\n",
    "\n",
    "smote = SMOTE(random_state=42)\n",
    "X_train, y_train = smote.fit_resample(X_train, y_train)"
   ]
  },
  {
   "cell_type": "code",
   "execution_count": 195,
   "id": "b970950c",
   "metadata": {},
   "outputs": [
    {
     "data": {
      "text/plain": [
       "0      0\n",
       "1      0\n",
       "2      0\n",
       "3      0\n",
       "4      1\n",
       "      ..\n",
       "647    1\n",
       "648    1\n",
       "649    1\n",
       "650    1\n",
       "651    1\n",
       "Name: Outcome, Length: 652, dtype: int64"
      ]
     },
     "execution_count": 195,
     "metadata": {},
     "output_type": "execute_result"
    }
   ],
   "source": [
    "y_train"
   ]
  },
  {
   "cell_type": "code",
   "execution_count": 196,
   "id": "87b91f94",
   "metadata": {},
   "outputs": [],
   "source": [
    "def categorize_bmi(bmi):\n",
    "    if bmi < 18.5:\n",
    "        return \"Underweight\"\n",
    "    elif bmi <= 25:\n",
    "        return \"Normal\"\n",
    "    elif bmi <= 30:\n",
    "        return \"Overweight\"\n",
    "    elif bmi <= 35:\n",
    "        return \"Obesity I\"\n",
    "    elif bmi <= 40:\n",
    "        return \"Obesity II\"\n",
    "    else:\n",
    "        return \"Obesity III\"\n",
    "\n",
    "def categorize_glucose(glucose):\n",
    "    if glucose < 70:\n",
    "        return \"Low Glucose\"\n",
    "    elif glucose <= 99:\n",
    "        return \"Normal\"\n",
    "    elif glucose <= 125:\n",
    "        return \"Prediabetic\"\n",
    "    else:\n",
    "        return \"High Glucose\""
   ]
  },
  {
   "cell_type": "code",
   "execution_count": 197,
   "id": "2a8961df",
   "metadata": {},
   "outputs": [],
   "source": [
    "# # Feature Engineering\n",
    "# # df.loc[row, col]\n",
    "# X_train.loc[(X_train[\"BMI\"] < 18.5) , \"BMI\"] = 'Underweight'\n",
    "# X_train.loc[(X_train[\"BMI\"] >= 18.5)  & (X_train[\"BMI\"] <= 25), \"BMI\"] = 'Normal'\n",
    "# X_train.loc[(X_train[\"BMI\"] > 25 ) & (X_train[\"BMI\"] <= 30), \"BMI\"] = 'Overweight'\n",
    "# X_train.loc[(X_train[\"BMI\"] > 30 ) & (X_train[\"BMI\"] <= 35), \"BMI\"] = 'Obesity I'\n",
    "# X_train.loc[(X_train[\"BMI\"] > 35)  & (X_train[\"BMI\"] <= 40), \"BMI\"] = 'Obesity II'\n",
    "# X_train.loc[(X_train[\"BMI\"] > 40 ), \"BMI\"] = 'Obesity III'\n",
    "\n",
    "# # Feature Engineering\n",
    "# # df.loc[row, col]\n",
    "# X_test.loc[(X_test[\"BMI\"] < 18.5) , \"BMI\"] = 'Underweight'\n",
    "# X_test.loc[(X_test[\"BMI\"] >= 18.5)  & (X_test[\"BMI\"] <= 25), \"BMI\"] = 'Normal'\n",
    "# X_test.loc[(X_test[\"BMI\"] > 25 ) & (X_test[\"BMI\"] <= 30), \"BMI\"] = 'Overweight'\n",
    "# X_test.loc[(X_test[\"BMI\"] > 30 ) & (X_test[\"BMI\"] <= 35), \"BMI\"] = 'Obesity I'\n",
    "# X_test.loc[(X_test[\"BMI\"] > 35)  & (X_test[\"BMI\"] <= 40), \"BMI\"] = 'Obesity II'\n",
    "# X_test.loc[(X_test[\"BMI\"] > 40 ), \"BMI\"] = 'Obesity III'\n",
    "\n",
    "\n"
   ]
  },
  {
   "cell_type": "code",
   "execution_count": 198,
   "id": "a1f32a30",
   "metadata": {},
   "outputs": [],
   "source": [
    "# # df.loc[row, col]\n",
    "# X_train.loc[(X_train[\"Glucose\"] < 70), \"NewGlucose\"] = 'Low Glucose'\n",
    "# X_train.loc[(X_train[\"Glucose\"] >= 70)  & (X_train[\"Glucose\"] <= 99), \"NewGlucose\"] = 'Normal'\n",
    "# X_train.loc[(X_train[\"Glucose\"] > 99 ) & (X_train[\"Glucose\"] <= 125), \"NewGlucose\"] = 'Prediabetic'\n",
    "# X_train.loc[(X_train[\"Glucose\"] > 125 ), \"NewGlucose\"] = 'High Glucose'\n",
    "\n",
    "\n",
    "# # df.loc[row, col]\n",
    "# X_test.loc[(X_test[\"Glucose\"] < 70), \"NewGlucose\"] = 'Low Glucose'\n",
    "# X_test.loc[(X_test[\"Glucose\"] >= 70)  & (X_test[\"Glucose\"] <= 99), \"NewGlucose\"] = 'Normal'\n",
    "# X_test.loc[(X_test[\"Glucose\"] > 99 ) & (X_test[\"Glucose\"] <= 125), \"NewGlucose\"] = 'Prediabetic'\n",
    "# X_test.loc[(X_test[\"Glucose\"] > 125), \"NewGlucose\"] = 'High Glucose'\n"
   ]
  },
  {
   "cell_type": "code",
   "execution_count": 199,
   "id": "402893c7",
   "metadata": {},
   "outputs": [],
   "source": [
    "def insulin_score(insulin):\n",
    "    if insulin>= 16 and insulin<=165:\n",
    "        return \"Normal\"\n",
    "    else:\n",
    "        return \"Abnormal\"\n",
    "\n",
    "\n",
    "## Applying age bands function on Age column. This column will be used for EDA\n",
    "X_train[\"Insulin\"] = X_train[\"Insulin\"].apply(insulin_score)\n",
    "X_test[\"Insulin\"] = X_test[\"Insulin\"].apply(insulin_score)\n",
    "X_train[\"Glucose\"] = X_train[\"Glucose\"].apply(categorize_glucose)\n",
    "X_test[\"Glucose\"] = X_test[\"Glucose\"].apply(categorize_glucose)\n",
    "\n",
    "X_train[\"BMI\"] = X_train[\"BMI\"].apply(categorize_bmi)\n",
    "X_test[\"BMI\"] = X_test[\"BMI\"].apply(categorize_bmi)"
   ]
  },
  {
   "cell_type": "markdown",
   "id": "22736eb9",
   "metadata": {},
   "source": [
    "| Feature                          | `.apply()`                                                                   | `.transform()`                                          |\n",
    "| -------------------------------- | ---------------------------------------------------------------------------- | ------------------------------------------------------- |\n",
    "| **Shape of Output**              | Output **may change** shape (can return Series/DataFrame of different shape) | Output has **same shape** as the input (1:1 mapping)    |\n",
    "| **Used for**                     | Aggregation, transformation, custom row/column-wise ops                      | Element-wise or group-wise transformations              |\n",
    "| **Good for grouping & reducing** | Yes (e.g. `.groupby().apply()`)                                              | No aggregation — only for returning same-length results |\n",
    "| **Returns**                      | Flexible — can return scalar, Series, or DataFrame                           | Must return Series or array **of the same length**      |\n",
    "| **Common use-case**              | Custom aggregations, row-wise operations                                     | Filling missing values, scaling, normalization, etc.    |\n",
    "| **Broadcast to original index**  | Not always                                                                   | Yes — always aligns with original index                 |\n"
   ]
  },
  {
   "cell_type": "code",
   "execution_count": 200,
   "id": "8214f8af-c753-424d-8376-cb0f68eb28c7",
   "metadata": {},
   "outputs": [],
   "source": [
    "### Feature engineering\n",
    "# \n",
    "# split the data\n",
    "# handle 0\n",
    "# balance data\n",
    "# standardise\n",
    "# log transformation"
   ]
  },
  {
   "cell_type": "code",
   "execution_count": 201,
   "id": "c117318a-8f8d-4fe3-8e9f-e000b1383414",
   "metadata": {},
   "outputs": [
    {
     "data": {
      "text/plain": [
       "(269, 8)"
      ]
     },
     "execution_count": 201,
     "metadata": {},
     "output_type": "execute_result"
    }
   ],
   "source": [
    "# skin_thickness_median = X_train['SkinThickness'].median()\n",
    "# insulin_mean = int(X_train['Insulin'].mean())\n",
    "# bmi_mean = X_train['BMI'].mean().round(1)\n",
    "# bp_mean = int(X_train['BloodPressure'].mean())\n",
    "# \n",
    "# X_train['SkinThickness'] = X_train['SkinThickness'].fillna(skin_thickness_median)\n",
    "# X_train['Insulin'] = X_train['Insulin'].fillna(insulin_mean)\n",
    "# X_train['BMI'] = X_train['BMI'].fillna(bmi_mean)\n",
    "# X_train['BloodPressure'] = X_train['BloodPressure'].fillna(bp_mean)\n",
    "X_test.shape"
   ]
  },
  {
   "cell_type": "code",
   "execution_count": 202,
   "id": "39800be7",
   "metadata": {},
   "outputs": [],
   "source": [
    "## Encoding\n",
    "# Encode the new columns\n",
    "label_encoder = LabelEncoder()\n",
    "X_train['Insulin'] = label_encoder.fit_transform(X_train['Insulin'])\n",
    "X_test['Insulin'] = label_encoder.transform(X_test['Insulin'])\n"
   ]
  },
  {
   "cell_type": "code",
   "execution_count": 203,
   "id": "b87155fc",
   "metadata": {},
   "outputs": [],
   "source": [
    "onehot_encoder_category= OneHotEncoder()\n",
    "X_train_cat = onehot_encoder_category.fit_transform(X_train[[\"BMI\",\"Glucose\"]])\n",
    "X_test_cat = onehot_encoder_category.transform(X_test[[\"BMI\",\"Glucose\"]])\n",
    "\n",
    "# currently its a matrix without any col names"
   ]
  },
  {
   "cell_type": "code",
   "execution_count": null,
   "id": "63dfa44a",
   "metadata": {},
   "outputs": [],
   "source": []
  },
  {
   "cell_type": "code",
   "execution_count": null,
   "id": "142f48ce",
   "metadata": {},
   "outputs": [],
   "source": [
    "# X_train= X_train.drop(['Glucose','BMI','Insulin', 'NewBMI', 'NewGlucose'], axis =1 )\n",
    "# X_test= X_test.drop(['Glucose','BMI','Insulin', 'NewBMI', 'NewGlucose'], axis =1 )\n",
    "\n"
   ]
  },
  {
   "cell_type": "code",
   "execution_count": 204,
   "id": "bdd71a73",
   "metadata": {},
   "outputs": [],
   "source": [
    "X_train_cat_columns = onehot_encoder_category.get_feature_names_out([\"BMI\", \"Glucose\"])\n",
    "X_test_cat_columns = onehot_encoder_category.get_feature_names_out([\"BMI\", \"Glucose\"])\n",
    "# all col names"
   ]
  },
  {
   "cell_type": "code",
   "execution_count": 205,
   "id": "b4133944",
   "metadata": {},
   "outputs": [],
   "source": [
    "# converting into a adataframe\n",
    "X_train_encoded = pd.DataFrame(X_train_cat.toarray(),columns= X_train_cat_columns)\n",
    "X_test_encoded = pd.DataFrame(X_test_cat.toarray(),columns= X_test_cat_columns)\n"
   ]
  },
  {
   "cell_type": "code",
   "execution_count": null,
   "id": "38b03be6",
   "metadata": {},
   "outputs": [],
   "source": [
    "X_train_encoded"
   ]
  },
  {
   "cell_type": "code",
   "execution_count": 206,
   "id": "6831e205",
   "metadata": {},
   "outputs": [],
   "source": [
    "import pickle\n",
    "with open('pickle/label_encoder.pkl','wb') as file:\n",
    "    pickle.dump(label_encoder, file)\n",
    "with open('pickle/onehot_encoder.pkl','wb') as file:\n",
    "    pickle.dump(onehot_encoder_category, file)"
   ]
  },
  {
   "cell_type": "code",
   "execution_count": 207,
   "id": "fca332da",
   "metadata": {},
   "outputs": [],
   "source": [
    "X_train= X_train.drop(['Glucose','BMI'], axis =1 )\n",
    "X_test= X_test.drop(['Glucose','BMI'], axis =1 )\n",
    "\n"
   ]
  },
  {
   "cell_type": "code",
   "execution_count": 208,
   "id": "f885a7b8",
   "metadata": {},
   "outputs": [],
   "source": [
    "# resetting index \n",
    "X_train = X_train.reset_index(drop=True)\n",
    "X_test = X_test.reset_index(drop=True)\n",
    "X_train_encoded = X_train_encoded.reset_index(drop=True)\n",
    "X_test_encoded = X_test_encoded.reset_index(drop=True)\n",
    "\n"
   ]
  },
  {
   "cell_type": "code",
   "execution_count": 209,
   "id": "bd0d1925",
   "metadata": {},
   "outputs": [],
   "source": [
    "cols = X_train.columns\n",
    "X_train_index = X_train.index\n",
    "X_test_index = X_test.index\n",
    "\n",
    "transformer = RobustScaler().fit(X_train)\n",
    "X_train_scaled=transformer.transform(X_train)\n",
    "X_test_scaled = transformer.transform(X_test)\n",
    "X_train_outlier=pd.DataFrame(X_train_scaled, columns = cols, index = X_train_index)\n",
    "X_test_outlier=pd.DataFrame(X_test_scaled, columns = cols, index = X_test_index)\n",
    "#X_train_concat = pd.concat([X_train, X_train_encoded], axis=1)\n",
    "#X_test_concat = pd.concat([X_test, X_test_encoded], axis=1)\n",
    "\n"
   ]
  },
  {
   "cell_type": "code",
   "execution_count": null,
   "id": "8a858d0b",
   "metadata": {},
   "outputs": [],
   "source": [
    "X_train_outlier"
   ]
  },
  {
   "cell_type": "code",
   "execution_count": 210,
   "id": "4d02447a",
   "metadata": {},
   "outputs": [],
   "source": [
    "with open(\"pickle/robust_scaler.pkl\", \"wb\") as f:\n",
    "    pickle.dump(transformer, f)"
   ]
  },
  {
   "cell_type": "code",
   "execution_count": 211,
   "id": "feb4cf2e",
   "metadata": {},
   "outputs": [],
   "source": [
    "X_train_df = pd.concat([X_train_outlier, X_train_encoded], axis=1)\n",
    "X_test_df = pd.concat([X_test_outlier, X_test_encoded], axis=1)\n",
    "\n"
   ]
  },
  {
   "cell_type": "code",
   "execution_count": null,
   "id": "f394d132-88e9-423a-8a60-2b7911397a5a",
   "metadata": {},
   "outputs": [],
   "source": [
    "#y_train = y_train.values.ravel()"
   ]
  },
  {
   "cell_type": "code",
   "execution_count": 212,
   "id": "7ad0e9c9",
   "metadata": {},
   "outputs": [],
   "source": [
    "with open(\"pickle/X_train.pkl\", \"wb\") as f:\n",
    "    pickle.dump(X_train_df, f)\n",
    "\n",
    "with open(\"pickle/X_test.pkl\", \"wb\") as f:\n",
    "    pickle.dump(X_test_df, f)\n",
    "\n",
    "with open(\"pickle/y_train.pkl\", \"wb\") as f:\n",
    "    pickle.dump(y_train, f)\n",
    "\n",
    "with open(\"pickle/y_test.pkl\", \"wb\") as f:\n",
    "    pickle.dump(y_test, f)"
   ]
  },
  {
   "cell_type": "code",
   "execution_count": null,
   "id": "eaea9739-f5d8-4929-9577-111eb7ae9799",
   "metadata": {},
   "outputs": [],
   "source": []
  },
  {
   "cell_type": "code",
   "execution_count": null,
   "id": "30dd169f",
   "metadata": {},
   "outputs": [],
   "source": [
    "X_train_df"
   ]
  },
  {
   "cell_type": "code",
   "execution_count": null,
   "id": "6f52ae1d-3f6b-49f2-a3fe-6a542dff82c8",
   "metadata": {
    "scrolled": true
   },
   "outputs": [],
   "source": [
    "# # Log Transformation\n",
    "# X_train['DiabetesPedigreeFunction']= np.cbrt(X_train['DiabetesPedigreeFunction'])\n",
    "# X_test['DiabetesPedigreeFunction']= np.cbrt(X_test['DiabetesPedigreeFunction'])\n",
    "\n",
    "# sns.histplot(data=X_train, x='DiabetesPedigreeFunction', kde=True, bins=20, color= \"red\")\n",
    "# X_train['Insulin']= np.cbrt(X_train['Insulin'])\n",
    "# X_test['Insulin']= np.cbrt(X_test['Insulin'])\n",
    "\n",
    "# sns.histplot(data=X_train, x='Insulin', kde=True, bins=20, color= \"red\")\n",
    "# X_train['BMI']= np.cbrt(X_train['BMI'])\n",
    "# X_test['BMI']= np.cbrt(X_test['BMI'])\n",
    "\n",
    "# sns.histplot(data=X_train, x='BMI', kde=True, bins=20, color= \"red\")\n",
    "\n",
    "# fig, axes = plt.subplots(3, 2, figsize=(12, 10))  # 2 rows, 2 columns\n",
    "\n",
    "# sns.histplot(data=X_train, x='Glucose', kde=True, bins=20, color= \"red\",ax=axes[0, 0])\n",
    "# axes[0,0].set_title('Glucose Distribution (Diabetic) vs non diabetic')\n",
    "# axes[0,0].set_xlabel('Glucose Level ')\n",
    "# axes[0,0].set_ylabel('Frequency')\n",
    "\n",
    "\n",
    "# sns.histplot(data=X_train, x='DiabetesPedigreeFunction', kde=True, bins=20, color= \"red\", ax=axes[0, 1])\n",
    "# axes[0,1].set_title('DiabetesPedigreeFunction Distribution (Diabetic) vs non diabetic')\n",
    "# axes[0,1].set_xlabel('DiabetesPedigreeFunction ')\n",
    "# axes[0,1].set_ylabel('Frequency')\n",
    "\n",
    "# sns.histplot(data=X_train, x='BMI', kde=True, bins=20, color= \"red\", ax=axes[1,0])\n",
    "# axes[1,0].set_title('BMI Distribution (Diabetic) vs non diabetic')\n",
    "# axes[1,0].set_xlabel('BMI ')\n",
    "# axes[1,0].set_ylabel('Frequency')\n",
    "\n",
    "# sns.histplot(data=X_train, x='BloodPressure', kde=True, bins=20, color= \"red\", ax=axes[1,1])\n",
    "# axes[1,1].set_title('BloodPressure Distribution (Diabetic) vs non diabetic')\n",
    "# axes[1,1].set_xlabel('BloodPressure ')\n",
    "# axes[1,1].set_ylabel('Frequency')\n",
    "\n",
    "\n",
    "# sns.histplot(data=X_train, x='SkinThickness', kde=True, bins=20, color= \"red\", ax=axes[2,0])\n",
    "# axes[2,0].set_title('SkinThickness Distribution (Diabetic) vs non diabetic')\n",
    "# axes[2,0].set_xlabel('SkinThickness ')\n",
    "# axes[2,0].set_ylabel('Frequency')\n",
    "\n",
    "# sns.histplot(data=X_train, x='Insulin', kde=True, bins=20, color= \"red\", ax=axes[2,1])\n",
    "# axes[2,1].set_title('Insulin Distribution (Diabetic) vs non diabetic')\n",
    "# axes[2,1].set_xlabel('Insulin ')\n",
    "# axes[2,1].set_ylabel('Frequency')\n",
    "\n",
    "# plt.show()\n",
    "\n"
   ]
  },
  {
   "cell_type": "code",
   "execution_count": null,
   "id": "1195fb24-1fff-43b2-a83a-2899013daf70",
   "metadata": {},
   "outputs": [],
   "source": [
    "# from sklearn.preprocessing import StandardScaler\n",
    "\n",
    "# scaler = StandardScaler()\n",
    "# X_train_scaled = scaler.fit_transform(X_train_df)\n",
    "# X_test_scaled = scaler.transform(X_test_df)\n"
   ]
  },
  {
   "cell_type": "code",
   "execution_count": null,
   "id": "66d9781e-b121-481d-be1e-98e6fcc4e4da",
   "metadata": {},
   "outputs": [],
   "source": [
    "## Building models\n",
    "\n",
    "## Logistic \n",
    "## hyperparameters tuning\n",
    "## maybe manual way"
   ]
  },
  {
   "cell_type": "code",
   "execution_count": null,
   "id": "e9f36b12-147a-49e8-a03e-ae20127b3747",
   "metadata": {},
   "outputs": [],
   "source": [
    "from sklearn.linear_model import LogisticRegression\n",
    "\n",
    "lr = LogisticRegression()\n",
    "lr.fit(X_train_df, y_train)"
   ]
  },
  {
   "cell_type": "code",
   "execution_count": null,
   "id": "54b6821d",
   "metadata": {},
   "outputs": [],
   "source": [
    "y_pred = lr.predict(X_test_df)\n"
   ]
  },
  {
   "cell_type": "code",
   "execution_count": null,
   "id": "cf152b02",
   "metadata": {},
   "outputs": [],
   "source": [
    "y_test.shape"
   ]
  },
  {
   "cell_type": "code",
   "execution_count": null,
   "id": "f5ef4962-940c-4461-8114-a00c9974c039",
   "metadata": {},
   "outputs": [],
   "source": [
    "from sklearn.metrics import accuracy_score, recall_score, precision_recall_fscore_support, f1_score, precision_score\n",
    "acc = accuracy_score(y_test, y_pred) * 100\n",
    "\n",
    "\n",
    "recall = recall_score(y_test, y_pred) * 100\n",
    "precision = precision_score(y_test, y_pred) * 100\n",
    "f1 = f1_score(y_test, y_pred) * 100\n",
    "\n",
    "\n",
    "print(f\"Logistic Regression model recall_score: {recall:.2f}%\")\n",
    "print(f\"Logistic Regression model precision_score : {precision :.2f}%\")\n",
    "print(f\"Logistic Regression model f1_score: {f1:.2f}%\")\n",
    "print(f\"Logistic Regression model acc: {acc:.2f}%\")"
   ]
  },
  {
   "cell_type": "code",
   "execution_count": null,
   "id": "95c16772-3e26-49fe-b79f-50707533483c",
   "metadata": {},
   "outputs": [],
   "source": [
    "param_grid = [\n",
    "    {'penalty': ['l2'], 'solver': ['lbfgs', 'newton-cg', 'sag'], 'max_iter': [100, 1000, 2500]},\n",
    "    {'penalty': ['l1'], 'solver': ['liblinear', 'saga'], 'max_iter': [100, 1000, 2500]},\n",
    "    {'penalty': ['l2'], 'solver': ['liblinear', 'saga'], 'max_iter': [100, 1000, 2500]}\n",
    "]\n"
   ]
  },
  {
   "cell_type": "markdown",
   "id": "0cf9a330-7421-4497-af5a-d22aac8f07d2",
   "metadata": {},
   "source": [
    "| Solver      | Supports `l1`? | Supports `l2`? | Notes                              |\n",
    "| ----------- | -------------- | -------------- | ---------------------------------- |\n",
    "| `liblinear` | ✅ Yes          | ✅ Yes          | Good for small datasets            |\n",
    "| `lbfgs`     | ❌ No           | ✅ Yes          | Fast for large datasets            |\n",
    "| `newton-cg` | ❌ No           | ✅ Yes          | Only `l2`                          |\n",
    "| `sag`       | ❌ No           | ✅ Yes          | Only `l2`                          |\n",
    "| `saga`      | ✅ Yes          | ✅ Yes          | Supports both, good for large data |\n"
   ]
  },
  {
   "cell_type": "code",
   "execution_count": null,
   "id": "50c31f5d-2fdd-4652-96ba-a692fa86e143",
   "metadata": {},
   "outputs": [],
   "source": [
    "from sklearn.model_selection import GridSearchCV\n",
    "model_lr = LogisticRegression()\n",
    "\n",
    "clf = GridSearchCV(model_lr,param_grid = param_grid, cv = 3, verbose=True,n_jobs=-1)\n",
    "clf"
   ]
  },
  {
   "cell_type": "code",
   "execution_count": null,
   "id": "e03c62e3-fe3f-45db-b3a1-cd977dba1eb8",
   "metadata": {},
   "outputs": [],
   "source": [
    "best_clf = clf.fit(X_train_df,y_train)\n",
    "best_clf.best_estimator_"
   ]
  },
  {
   "cell_type": "code",
   "execution_count": null,
   "id": "30cc6928-fab7-479d-a1fb-1116b4d206ee",
   "metadata": {},
   "outputs": [],
   "source": [
    "print(\"Best Parameters:\", best_clf.best_params_)\n",
    "print(\"Best Score:\", best_clf.best_score_)\n"
   ]
  },
  {
   "cell_type": "code",
   "execution_count": null,
   "id": "de92b643-d56c-47a7-9b06-f5aff3889d4d",
   "metadata": {},
   "outputs": [],
   "source": [
    "best_lr = clf.best_estimator_\n",
    "y_pred = best_lr.predict(X_test_df)\n",
    "\n",
    "from sklearn.metrics import classification_report\n",
    "print(classification_report(y_test, y_pred))\n"
   ]
  },
  {
   "cell_type": "code",
   "execution_count": null,
   "id": "cf92f292-e590-4351-838f-6c0741ed2432",
   "metadata": {},
   "outputs": [],
   "source": [
    "#acc = accuracy_score(y_test, lr.predict(X_test_scaled)) * 100\n",
    "\n",
    "print(f'Accuracy - : {best_clf.score(X_test_df,y_test):.3f}')"
   ]
  },
  {
   "cell_type": "code",
   "execution_count": null,
   "id": "88b888fd-88f5-4d26-b119-ebc8c47e924d",
   "metadata": {},
   "outputs": [],
   "source": []
  }
 ],
 "metadata": {
  "kernelspec": {
   "display_name": "Python 3",
   "language": "python",
   "name": "python3"
  },
  "language_info": {
   "codemirror_mode": {
    "name": "ipython",
    "version": 3
   },
   "file_extension": ".py",
   "mimetype": "text/x-python",
   "name": "python",
   "nbconvert_exporter": "python",
   "pygments_lexer": "ipython3",
   "version": "3.11.0"
  }
 },
 "nbformat": 4,
 "nbformat_minor": 5
}
